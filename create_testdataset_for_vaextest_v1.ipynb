{
 "cells": [
  {
   "cell_type": "code",
   "execution_count": 4,
   "id": "f77177c2",
   "metadata": {},
   "outputs": [],
   "source": [
    "import pandas as pd, numpy as np\n",
    "import random,requests\n",
    "from bs4 import BeautifulSoup\n",
    "from faker import Faker\n",
    "\n",
    "import vaex\n",
    "\n",
    "import numpy as np\n",
    "import pylab as plt\n",
    "import seaborn as sns\n",
    "\n",
    "import warnings\n",
    "warnings.filterwarnings(\"ignore\")\n",
    "\n",
    "#initialize Faker\n",
    "fake=Faker()\n",
    "Faker.seed(4321)\n"
   ]
  },
  {
   "cell_type": "code",
   "execution_count": 5,
   "id": "417ad3fa",
   "metadata": {},
   "outputs": [],
   "source": [
    "names=[]\n",
    "address=[]\n",
    "company=[]\n",
    "\n",
    "n_names=200\n",
    "for n in range(n_names):\n",
    "    names.append(fake.name())\n",
    "    address.append(fake.address())\n",
    "    company.append(fake.company())\n",
    "    \n",
    "\n",
    "     \n",
    "        "
   ]
  },
  {
   "cell_type": "code",
   "execution_count": 36,
   "id": "9106c1d2",
   "metadata": {},
   "outputs": [],
   "source": [
    "from numpy.random import randint\n",
    "from numpy.random import rand\n"
   ]
  },
  {
   "cell_type": "code",
   "execution_count": null,
   "id": "a89a8130",
   "metadata": {},
   "outputs": [],
   "source": [
    "column_names = []\n"
   ]
  },
  {
   "cell_type": "code",
   "execution_count": 74,
   "id": "25208bee",
   "metadata": {},
   "outputs": [],
   "source": [
    "df = pd.DataFrame() \n",
    "\n"
   ]
  },
  {
   "cell_type": "code",
   "execution_count": 75,
   "id": "cc06404d",
   "metadata": {},
   "outputs": [
    {
     "data": {
      "text/plain": [
       "Index([], dtype='object')"
      ]
     },
     "execution_count": 75,
     "metadata": {},
     "output_type": "execute_result"
    }
   ],
   "source": [
    "df.columns"
   ]
  },
  {
   "cell_type": "code",
   "execution_count": 76,
   "id": "fefae52f",
   "metadata": {},
   "outputs": [],
   "source": [
    "NumColumns = 100\n",
    "temp3 = rand(NumColumns, 1)\n",
    "temp = [fake.name()] + [fake.address()] + [fake.company()] + list(randint(100, size=NumColumns)) +  temp3.flatten().tolist()"
   ]
  },
  {
   "cell_type": "code",
   "execution_count": 77,
   "id": "9d1f7675",
   "metadata": {},
   "outputs": [
    {
     "name": "stdout",
     "output_type": "stream",
     "text": [
      "['James Curry', 'PSC 9053, Box 2401\\nAPO AE 42402', 'Carson PLC', 14, 47, 55, 64, 13, 78, 8, 54, 72, 5, 20, 6, 53, 64, 94, 55, 24, 23, 5, 2, 86, 30, 97, 52, 36, 47, 95, 18, 45, 73, 64, 69, 19, 38, 98, 95, 7, 35, 84, 1, 3, 41, 73, 20, 50, 92, 69, 11, 68, 13, 90, 56, 69, 7, 23, 1, 74, 68, 50, 8, 21, 86, 54, 99, 16, 81, 67, 25, 74, 89, 57, 41, 70, 32, 78, 80, 35, 70, 40, 89, 77, 34, 29, 8, 65, 75, 87, 1, 71, 19, 35, 8, 57, 53, 34, 98, 80, 95, 62, 16, 0.6685608349122469, 0.9523571074413099, 0.3137407974686376, 0.7986324778817822, 0.6588053835862325, 0.17512930753395928, 0.876840662526897, 0.8172954021265441, 0.6389106255648537, 0.8707129573000448, 0.14189606121859621, 0.7351437407441932, 0.9884367861914152, 0.012473292958665727, 0.07218290320279652, 0.8561739474312611, 0.6428667778645148, 0.530967415222477, 0.5082824224393835, 0.875151575608086, 0.7440316305270782, 0.8571521898675306, 0.6686281959458988, 0.5643585939807471, 0.6588394017442232, 0.08593955124106412, 0.4981405452759299, 0.05418938958184982, 0.964278215413973, 0.6428077058382156, 0.8140584058640157, 0.640153073490371, 0.11841190610860008, 0.0876460652681682, 0.17578164053956236, 0.7937135043555168, 0.9594543793050646, 0.48142363187867, 0.017900545770073495, 0.4327132503070612, 0.19684895406862468, 0.5048662846735791, 0.5008597369207881, 0.9926147176261995, 0.8474780786808502, 0.274993544254875, 0.5464175357922081, 0.6189216543148249, 0.5504138603223317, 0.3934367889030925, 0.14209900652870888, 0.19783119059116372, 0.3046067344338952, 0.24981454876650222, 0.5852768753421606, 0.2811976149805546, 0.6860312556281577, 0.289855121063619, 0.1557776995206378, 0.9702184814240568, 0.6059805608623637, 0.12859435625510973, 0.7486076560334646, 0.8003027197874706, 0.7491987841797176, 0.6272612068748943, 0.4937594314295748, 0.9246070930570564, 0.3380565926782181, 0.5881150823073671, 0.04993605509472765, 0.7755075170263886, 0.5802107827558843, 0.9154185821407462, 0.5945075012769152, 0.3822500548792349, 0.7805381872921671, 0.06452838973883535, 0.30858194639189873, 0.00994169510721099, 0.7007584254888433, 0.17074198607119528, 0.3584559693500373, 0.26792055667747827, 0.7387402535887816, 0.6068411731790343, 0.8141222508226601, 0.9907531057243029, 0.7938059033656305, 0.2780573594918756, 0.8407058150088242, 0.6408903558493025, 0.1305227265052673, 0.8242652883056852, 0.6350751934885827, 0.03633813465961577, 0.12043744826384895, 0.853343590869007, 0.45166896200656137, 0.67172505589598]\n"
     ]
    }
   ],
   "source": [
    "print(temp)"
   ]
  },
  {
   "cell_type": "code",
   "execution_count": 78,
   "id": "917ff0f5",
   "metadata": {},
   "outputs": [
    {
     "ename": "ValueError",
     "evalue": "cannot set a frame with no defined columns",
     "output_type": "error",
     "traceback": [
      "\u001b[1;31m---------------------------------------------------------------------------\u001b[0m",
      "\u001b[1;31mValueError\u001b[0m                                Traceback (most recent call last)",
      "\u001b[1;32m~\\AppData\\Local\\Temp/ipykernel_20616/760575079.py\u001b[0m in \u001b[0;36m<module>\u001b[1;34m\u001b[0m\n\u001b[0;32m      2\u001b[0m     \u001b[0mtemp3\u001b[0m \u001b[1;33m=\u001b[0m \u001b[0mrand\u001b[0m\u001b[1;33m(\u001b[0m\u001b[0mNumColumns\u001b[0m\u001b[1;33m,\u001b[0m \u001b[1;36m1\u001b[0m\u001b[1;33m)\u001b[0m\u001b[1;33m\u001b[0m\u001b[1;33m\u001b[0m\u001b[0m\n\u001b[0;32m      3\u001b[0m     \u001b[0mtemp\u001b[0m \u001b[1;33m=\u001b[0m \u001b[1;33m[\u001b[0m\u001b[0mfake\u001b[0m\u001b[1;33m.\u001b[0m\u001b[0mname\u001b[0m\u001b[1;33m(\u001b[0m\u001b[1;33m)\u001b[0m\u001b[1;33m]\u001b[0m \u001b[1;33m+\u001b[0m \u001b[1;33m[\u001b[0m\u001b[0mfake\u001b[0m\u001b[1;33m.\u001b[0m\u001b[0maddress\u001b[0m\u001b[1;33m(\u001b[0m\u001b[1;33m)\u001b[0m\u001b[1;33m]\u001b[0m \u001b[1;33m+\u001b[0m \u001b[1;33m[\u001b[0m\u001b[0mfake\u001b[0m\u001b[1;33m.\u001b[0m\u001b[0mcompany\u001b[0m\u001b[1;33m(\u001b[0m\u001b[1;33m)\u001b[0m\u001b[1;33m]\u001b[0m \u001b[1;33m+\u001b[0m \u001b[0mlist\u001b[0m\u001b[1;33m(\u001b[0m\u001b[0mrandint\u001b[0m\u001b[1;33m(\u001b[0m\u001b[1;36m100\u001b[0m\u001b[1;33m,\u001b[0m \u001b[0msize\u001b[0m\u001b[1;33m=\u001b[0m\u001b[0mNumColumns\u001b[0m\u001b[1;33m)\u001b[0m\u001b[1;33m)\u001b[0m \u001b[1;33m+\u001b[0m  \u001b[0mtemp3\u001b[0m\u001b[1;33m.\u001b[0m\u001b[0mflatten\u001b[0m\u001b[1;33m(\u001b[0m\u001b[1;33m)\u001b[0m\u001b[1;33m.\u001b[0m\u001b[0mtolist\u001b[0m\u001b[1;33m(\u001b[0m\u001b[1;33m)\u001b[0m\u001b[1;33m\u001b[0m\u001b[1;33m\u001b[0m\u001b[0m\n\u001b[1;32m----> 4\u001b[1;33m     \u001b[0mdf\u001b[0m\u001b[1;33m.\u001b[0m\u001b[0mloc\u001b[0m\u001b[1;33m[\u001b[0m\u001b[0mi\u001b[0m\u001b[1;33m]\u001b[0m \u001b[1;33m=\u001b[0m \u001b[0mtemp\u001b[0m\u001b[1;33m\u001b[0m\u001b[1;33m\u001b[0m\u001b[0m\n\u001b[0m",
      "\u001b[1;32mE:\\ProgramData\\Anaconda3\\envs\\jupytercolablink\\lib\\site-packages\\pandas\\core\\indexing.py\u001b[0m in \u001b[0;36m__setitem__\u001b[1;34m(self, key, value)\u001b[0m\n\u001b[0;32m    721\u001b[0m \u001b[1;33m\u001b[0m\u001b[0m\n\u001b[0;32m    722\u001b[0m         \u001b[0miloc\u001b[0m \u001b[1;33m=\u001b[0m \u001b[0mself\u001b[0m \u001b[1;32mif\u001b[0m \u001b[0mself\u001b[0m\u001b[1;33m.\u001b[0m\u001b[0mname\u001b[0m \u001b[1;33m==\u001b[0m \u001b[1;34m\"iloc\"\u001b[0m \u001b[1;32melse\u001b[0m \u001b[0mself\u001b[0m\u001b[1;33m.\u001b[0m\u001b[0mobj\u001b[0m\u001b[1;33m.\u001b[0m\u001b[0miloc\u001b[0m\u001b[1;33m\u001b[0m\u001b[1;33m\u001b[0m\u001b[0m\n\u001b[1;32m--> 723\u001b[1;33m         \u001b[0miloc\u001b[0m\u001b[1;33m.\u001b[0m\u001b[0m_setitem_with_indexer\u001b[0m\u001b[1;33m(\u001b[0m\u001b[0mindexer\u001b[0m\u001b[1;33m,\u001b[0m \u001b[0mvalue\u001b[0m\u001b[1;33m,\u001b[0m \u001b[0mself\u001b[0m\u001b[1;33m.\u001b[0m\u001b[0mname\u001b[0m\u001b[1;33m)\u001b[0m\u001b[1;33m\u001b[0m\u001b[1;33m\u001b[0m\u001b[0m\n\u001b[0m\u001b[0;32m    724\u001b[0m \u001b[1;33m\u001b[0m\u001b[0m\n\u001b[0;32m    725\u001b[0m     \u001b[1;32mdef\u001b[0m \u001b[0m_validate_key\u001b[0m\u001b[1;33m(\u001b[0m\u001b[0mself\u001b[0m\u001b[1;33m,\u001b[0m \u001b[0mkey\u001b[0m\u001b[1;33m,\u001b[0m \u001b[0maxis\u001b[0m\u001b[1;33m:\u001b[0m \u001b[0mint\u001b[0m\u001b[1;33m)\u001b[0m\u001b[1;33m:\u001b[0m\u001b[1;33m\u001b[0m\u001b[1;33m\u001b[0m\u001b[0m\n",
      "\u001b[1;32mE:\\ProgramData\\Anaconda3\\envs\\jupytercolablink\\lib\\site-packages\\pandas\\core\\indexing.py\u001b[0m in \u001b[0;36m_setitem_with_indexer\u001b[1;34m(self, indexer, value, name)\u001b[0m\n\u001b[0;32m   1722\u001b[0m \u001b[1;33m\u001b[0m\u001b[0m\n\u001b[0;32m   1723\u001b[0m             \u001b[1;32mif\u001b[0m \u001b[0mmissing\u001b[0m\u001b[1;33m:\u001b[0m\u001b[1;33m\u001b[0m\u001b[1;33m\u001b[0m\u001b[0m\n\u001b[1;32m-> 1724\u001b[1;33m                 \u001b[0mself\u001b[0m\u001b[1;33m.\u001b[0m\u001b[0m_setitem_with_indexer_missing\u001b[0m\u001b[1;33m(\u001b[0m\u001b[0mindexer\u001b[0m\u001b[1;33m,\u001b[0m \u001b[0mvalue\u001b[0m\u001b[1;33m)\u001b[0m\u001b[1;33m\u001b[0m\u001b[1;33m\u001b[0m\u001b[0m\n\u001b[0m\u001b[0;32m   1725\u001b[0m                 \u001b[1;32mreturn\u001b[0m\u001b[1;33m\u001b[0m\u001b[1;33m\u001b[0m\u001b[0m\n\u001b[0;32m   1726\u001b[0m \u001b[1;33m\u001b[0m\u001b[0m\n",
      "\u001b[1;32mE:\\ProgramData\\Anaconda3\\envs\\jupytercolablink\\lib\\site-packages\\pandas\\core\\indexing.py\u001b[0m in \u001b[0;36m_setitem_with_indexer_missing\u001b[1;34m(self, indexer, value)\u001b[0m\n\u001b[0;32m   2010\u001b[0m             \u001b[1;32mif\u001b[0m \u001b[1;32mnot\u001b[0m \u001b[0mlen\u001b[0m\u001b[1;33m(\u001b[0m\u001b[0mself\u001b[0m\u001b[1;33m.\u001b[0m\u001b[0mobj\u001b[0m\u001b[1;33m.\u001b[0m\u001b[0mcolumns\u001b[0m\u001b[1;33m)\u001b[0m\u001b[1;33m:\u001b[0m\u001b[1;33m\u001b[0m\u001b[1;33m\u001b[0m\u001b[0m\n\u001b[0;32m   2011\u001b[0m                 \u001b[1;31m# no columns and scalar\u001b[0m\u001b[1;33m\u001b[0m\u001b[1;33m\u001b[0m\u001b[1;33m\u001b[0m\u001b[0m\n\u001b[1;32m-> 2012\u001b[1;33m                 \u001b[1;32mraise\u001b[0m \u001b[0mValueError\u001b[0m\u001b[1;33m(\u001b[0m\u001b[1;34m\"cannot set a frame with no defined columns\"\u001b[0m\u001b[1;33m)\u001b[0m\u001b[1;33m\u001b[0m\u001b[1;33m\u001b[0m\u001b[0m\n\u001b[0m\u001b[0;32m   2013\u001b[0m \u001b[1;33m\u001b[0m\u001b[0m\n\u001b[0;32m   2014\u001b[0m             \u001b[1;32mif\u001b[0m \u001b[0misinstance\u001b[0m\u001b[1;33m(\u001b[0m\u001b[0mvalue\u001b[0m\u001b[1;33m,\u001b[0m \u001b[0mABCSeries\u001b[0m\u001b[1;33m)\u001b[0m\u001b[1;33m:\u001b[0m\u001b[1;33m\u001b[0m\u001b[1;33m\u001b[0m\u001b[0m\n",
      "\u001b[1;31mValueError\u001b[0m: cannot set a frame with no defined columns"
     ]
    }
   ],
   "source": [
    "for i in range(200):\n",
    "    temp3 = rand(NumColumns, 1)\n",
    "    temp = [fake.name()] + [fake.address()] + [fake.company()] + list(randint(100, size=NumColumns)) +  temp3.flatten().tolist()\n",
    "    df.loc[i] = temp"
   ]
  },
  {
   "cell_type": "code",
   "execution_count": 42,
   "id": "fc4724c4",
   "metadata": {},
   "outputs": [
    {
     "data": {
      "text/html": [
       "<div>\n",
       "<style scoped>\n",
       "    .dataframe tbody tr th:only-of-type {\n",
       "        vertical-align: middle;\n",
       "    }\n",
       "\n",
       "    .dataframe tbody tr th {\n",
       "        vertical-align: top;\n",
       "    }\n",
       "\n",
       "    .dataframe thead th {\n",
       "        text-align: right;\n",
       "    }\n",
       "</style>\n",
       "<table border=\"1\" class=\"dataframe\">\n",
       "  <thead>\n",
       "    <tr style=\"text-align: right;\">\n",
       "      <th></th>\n",
       "      <th>name</th>\n",
       "      <th>address</th>\n",
       "      <th>company</th>\n",
       "      <th>qty1</th>\n",
       "      <th>qty2</th>\n",
       "      <th>qty3</th>\n",
       "      <th>qty4</th>\n",
       "      <th>qty5</th>\n",
       "      <th>qty6</th>\n",
       "      <th>qty7</th>\n",
       "      <th>qty8</th>\n",
       "      <th>qty9</th>\n",
       "      <th>qty10</th>\n",
       "    </tr>\n",
       "  </thead>\n",
       "  <tbody>\n",
       "    <tr>\n",
       "      <th>0</th>\n",
       "      <td>Earl Anderson</td>\n",
       "      <td>7887 Rebecca Plaza Suite 743\\nSouth Ronnie, GA...</td>\n",
       "      <td>Copeland, Mendoza and Rodgers</td>\n",
       "      <td>2</td>\n",
       "      <td>5</td>\n",
       "      <td>2</td>\n",
       "      <td>7</td>\n",
       "      <td>2</td>\n",
       "      <td>3</td>\n",
       "      <td>0</td>\n",
       "      <td>2</td>\n",
       "      <td>6</td>\n",
       "      <td>4</td>\n",
       "    </tr>\n",
       "    <tr>\n",
       "      <th>1</th>\n",
       "      <td>Kathleen Owens</td>\n",
       "      <td>53156 Samuel Falls\\nCurtisshire, AZ 97255</td>\n",
       "      <td>Carey-Spencer</td>\n",
       "      <td>6</td>\n",
       "      <td>6</td>\n",
       "      <td>3</td>\n",
       "      <td>6</td>\n",
       "      <td>7</td>\n",
       "      <td>9</td>\n",
       "      <td>8</td>\n",
       "      <td>6</td>\n",
       "      <td>3</td>\n",
       "      <td>3</td>\n",
       "    </tr>\n",
       "    <tr>\n",
       "      <th>2</th>\n",
       "      <td>James Butler</td>\n",
       "      <td>68437 Bailey Bypass\\nNew Lisa, CT 29825</td>\n",
       "      <td>Burnett, Olson and Campbell</td>\n",
       "      <td>3</td>\n",
       "      <td>3</td>\n",
       "      <td>3</td>\n",
       "      <td>7</td>\n",
       "      <td>4</td>\n",
       "      <td>8</td>\n",
       "      <td>9</td>\n",
       "      <td>8</td>\n",
       "      <td>6</td>\n",
       "      <td>1</td>\n",
       "    </tr>\n",
       "    <tr>\n",
       "      <th>3</th>\n",
       "      <td>Kimberly Payne</td>\n",
       "      <td>87461 Mark Corners Suite 737\\nRichardville, ID...</td>\n",
       "      <td>Williams-Wilson</td>\n",
       "      <td>0</td>\n",
       "      <td>6</td>\n",
       "      <td>9</td>\n",
       "      <td>9</td>\n",
       "      <td>4</td>\n",
       "      <td>5</td>\n",
       "      <td>4</td>\n",
       "      <td>0</td>\n",
       "      <td>7</td>\n",
       "      <td>9</td>\n",
       "    </tr>\n",
       "    <tr>\n",
       "      <th>4</th>\n",
       "      <td>Eric Levine</td>\n",
       "      <td>14990 Mark Parkway\\nChristopherview, NH 04927</td>\n",
       "      <td>Skinner, Velez and Ortiz</td>\n",
       "      <td>6</td>\n",
       "      <td>1</td>\n",
       "      <td>8</td>\n",
       "      <td>0</td>\n",
       "      <td>2</td>\n",
       "      <td>5</td>\n",
       "      <td>3</td>\n",
       "      <td>2</td>\n",
       "      <td>6</td>\n",
       "      <td>8</td>\n",
       "    </tr>\n",
       "  </tbody>\n",
       "</table>\n",
       "</div>"
      ],
      "text/plain": [
       "             name                                            address  \\\n",
       "0   Earl Anderson  7887 Rebecca Plaza Suite 743\\nSouth Ronnie, GA...   \n",
       "1  Kathleen Owens          53156 Samuel Falls\\nCurtisshire, AZ 97255   \n",
       "2    James Butler            68437 Bailey Bypass\\nNew Lisa, CT 29825   \n",
       "3  Kimberly Payne  87461 Mark Corners Suite 737\\nRichardville, ID...   \n",
       "4     Eric Levine      14990 Mark Parkway\\nChristopherview, NH 04927   \n",
       "\n",
       "                         company qty1 qty2 qty3 qty4 qty5 qty6 qty7 qty8 qty9  \\\n",
       "0  Copeland, Mendoza and Rodgers    2    5    2    7    2    3    0    2    6   \n",
       "1                  Carey-Spencer    6    6    3    6    7    9    8    6    3   \n",
       "2    Burnett, Olson and Campbell    3    3    3    7    4    8    9    8    6   \n",
       "3                Williams-Wilson    0    6    9    9    4    5    4    0    7   \n",
       "4       Skinner, Velez and Ortiz    6    1    8    0    2    5    3    2    6   \n",
       "\n",
       "  qty10  \n",
       "0     4  \n",
       "1     3  \n",
       "2     1  \n",
       "3     9  \n",
       "4     8  "
      ]
     },
     "execution_count": 42,
     "metadata": {},
     "output_type": "execute_result"
    }
   ],
   "source": [
    "df.head(5)"
   ]
  },
  {
   "cell_type": "code",
   "execution_count": 43,
   "id": "8a03d6b6",
   "metadata": {},
   "outputs": [],
   "source": [
    "df.to_csv(\"E:/Data/pinnacle/SampleData.csv\", index=False)"
   ]
  },
  {
   "cell_type": "code",
   "execution_count": 50,
   "id": "467325af",
   "metadata": {},
   "outputs": [],
   "source": [
    "a = rand(1,10)"
   ]
  },
  {
   "cell_type": "code",
   "execution_count": 51,
   "id": "d6a8c887",
   "metadata": {},
   "outputs": [
    {
     "name": "stdout",
     "output_type": "stream",
     "text": [
      "[[0.98177571 0.2628173  0.73595381 ... 0.83433168 0.21723099 0.00954474]\n",
      " [0.00863157 0.53299775 0.81275385 ... 0.74624824 0.02530089 0.00148643]\n",
      " [0.87303584 0.84879709 0.81859102 ... 0.15125095 0.03192485 0.73191348]\n",
      " ...\n",
      " [0.09668523 0.95460982 0.11969158 ... 0.69404639 0.73791433 0.98964189]\n",
      " [0.08109133 0.35064614 0.15127997 ... 0.46308193 0.38225701 0.4091412 ]\n",
      " [0.61083015 0.03700089 0.94405771 ... 0.28000244 0.08647376 0.52938894]]\n"
     ]
    }
   ],
   "source": [
    "print(a)"
   ]
  },
  {
   "cell_type": "code",
   "execution_count": null,
   "id": "0da81485",
   "metadata": {},
   "outputs": [],
   "source": []
  }
 ],
 "metadata": {
  "kernelspec": {
   "display_name": "Python 3 (ipykernel)",
   "language": "python",
   "name": "python3"
  },
  "language_info": {
   "codemirror_mode": {
    "name": "ipython",
    "version": 3
   },
   "file_extension": ".py",
   "mimetype": "text/x-python",
   "name": "python",
   "nbconvert_exporter": "python",
   "pygments_lexer": "ipython3",
   "version": "3.8.2"
  }
 },
 "nbformat": 4,
 "nbformat_minor": 5
}
