{
 "cells": [
  {
   "cell_type": "code",
   "execution_count": 1,
   "id": "f40a78e1",
   "metadata": {},
   "outputs": [],
   "source": [
    "import pandas as pd, numpy as np\n",
    "import random,requests\n",
    "from bs4 import BeautifulSoup\n",
    "from faker import Faker\n",
    "\n",
    "import vaex\n",
    "\n",
    "import numpy as np\n",
    "import pylab as plt\n",
    "import seaborn as sns\n",
    "\n",
    "import warnings\n",
    "warnings.filterwarnings(\"ignore\")"
   ]
  },
  {
   "cell_type": "code",
   "execution_count": 35,
   "id": "ba6bdc46",
   "metadata": {},
   "outputs": [],
   "source": [
    "import time"
   ]
  },
  {
   "cell_type": "code",
   "execution_count": 8,
   "id": "ab0321af",
   "metadata": {},
   "outputs": [],
   "source": [
    "hdf5_file = 'E:/Data/pinnacle/SampleData.h5'\n",
    "csv_file = 'E:/Data/pinnacle/SampleData.csv'"
   ]
  },
  {
   "cell_type": "code",
   "execution_count": 9,
   "id": "1be5c6e1",
   "metadata": {},
   "outputs": [],
   "source": [
    "#df.to_csv(\"E:/Data/pinnacle/SampleData.csv\", index=False)\n",
    "df = pd.read_csv(csv_file) "
   ]
  },
  {
   "cell_type": "code",
   "execution_count": 20,
   "id": "69863e6c",
   "metadata": {},
   "outputs": [
    {
     "data": {
      "text/html": [
       "<table>\n",
       "<thead>\n",
       "<tr><th>#                            </th><th>name          </th><th>address                                             </th><th>company                      </th><th style=\"text-align: right;\">  qty1</th><th style=\"text-align: right;\">  qty2</th><th style=\"text-align: right;\">  qty3</th><th style=\"text-align: right;\">  qty4</th><th style=\"text-align: right;\">  qty5</th><th style=\"text-align: right;\">  qty6</th><th style=\"text-align: right;\">  qty7</th><th style=\"text-align: right;\">  qty8</th><th style=\"text-align: right;\">  qty9</th><th style=\"text-align: right;\">  qty10</th></tr>\n",
       "</thead>\n",
       "<tbody>\n",
       "<tr><td><i style='opacity: 0.6'>0</i></td><td>Earl Anderson </td><td>&#x27;7887 Rebecca Plaza Suite 743\\nSouth Ronnie, GA 9...</td><td>Copeland, Mendoza and Rodgers</td><td style=\"text-align: right;\">     2</td><td style=\"text-align: right;\">     5</td><td style=\"text-align: right;\">     2</td><td style=\"text-align: right;\">     7</td><td style=\"text-align: right;\">     2</td><td style=\"text-align: right;\">     3</td><td style=\"text-align: right;\">     0</td><td style=\"text-align: right;\">     2</td><td style=\"text-align: right;\">     6</td><td style=\"text-align: right;\">      4</td></tr>\n",
       "<tr><td><i style='opacity: 0.6'>1</i></td><td>Kathleen Owens</td><td>53156 Samuel Falls\n",
       "Curtisshire, AZ 97255                                                     </td><td>Carey-Spencer                </td><td style=\"text-align: right;\">     6</td><td style=\"text-align: right;\">     6</td><td style=\"text-align: right;\">     3</td><td style=\"text-align: right;\">     6</td><td style=\"text-align: right;\">     7</td><td style=\"text-align: right;\">     9</td><td style=\"text-align: right;\">     8</td><td style=\"text-align: right;\">     6</td><td style=\"text-align: right;\">     3</td><td style=\"text-align: right;\">      3</td></tr>\n",
       "<tr><td><i style='opacity: 0.6'>2</i></td><td>James Butler  </td><td>68437 Bailey Bypass\n",
       "New Lisa, CT 29825                                                     </td><td>Burnett, Olson and Campbell  </td><td style=\"text-align: right;\">     3</td><td style=\"text-align: right;\">     3</td><td style=\"text-align: right;\">     3</td><td style=\"text-align: right;\">     7</td><td style=\"text-align: right;\">     4</td><td style=\"text-align: right;\">     8</td><td style=\"text-align: right;\">     9</td><td style=\"text-align: right;\">     8</td><td style=\"text-align: right;\">     6</td><td style=\"text-align: right;\">      1</td></tr>\n",
       "<tr><td><i style='opacity: 0.6'>3</i></td><td>Kimberly Payne</td><td>&#x27;87461 Mark Corners Suite 737\\nRichardville, ID 7...</td><td>Williams-Wilson              </td><td style=\"text-align: right;\">     0</td><td style=\"text-align: right;\">     6</td><td style=\"text-align: right;\">     9</td><td style=\"text-align: right;\">     9</td><td style=\"text-align: right;\">     4</td><td style=\"text-align: right;\">     5</td><td style=\"text-align: right;\">     4</td><td style=\"text-align: right;\">     0</td><td style=\"text-align: right;\">     7</td><td style=\"text-align: right;\">      9</td></tr>\n",
       "<tr><td><i style='opacity: 0.6'>4</i></td><td>Eric Levine   </td><td>14990 Mark Parkway\n",
       "Christopherview, NH 04927                                                     </td><td>Skinner, Velez and Ortiz     </td><td style=\"text-align: right;\">     6</td><td style=\"text-align: right;\">     1</td><td style=\"text-align: right;\">     8</td><td style=\"text-align: right;\">     0</td><td style=\"text-align: right;\">     2</td><td style=\"text-align: right;\">     5</td><td style=\"text-align: right;\">     3</td><td style=\"text-align: right;\">     2</td><td style=\"text-align: right;\">     6</td><td style=\"text-align: right;\">      8</td></tr>\n",
       "</tbody>\n",
       "</table>"
      ],
      "text/plain": [
       "  #  name            address                                               company                          qty1    qty2    qty3    qty4    qty5    qty6    qty7    qty8    qty9    qty10\n",
       "  0  Earl Anderson   '7887 Rebecca Plaza Suite 743\\nSouth Ronnie, GA 9...  Copeland, Mendoza and Rodgers       2       5       2       7       2       3       0       2       6        4\n",
       "  1  Kathleen Owens  53156 Samuel Falls                                    Carey-Spencer                       6       6       3       6       7       9       8       6       3        3\n",
       "                     Curtisshire, AZ 97255\n",
       "  2  James Butler    68437 Bailey Bypass                                   Burnett, Olson and Campbell         3       3       3       7       4       8       9       8       6        1\n",
       "                     New Lisa, CT 29825\n",
       "  3  Kimberly Payne  '87461 Mark Corners Suite 737\\nRichardville, ID 7...  Williams-Wilson                     0       6       9       9       4       5       4       0       7        9\n",
       "  4  Eric Levine     14990 Mark Parkway                                    Skinner, Velez and Ortiz            6       1       8       0       2       5       3       2       6        8\n",
       "                     Christopherview, NH 04927"
      ]
     },
     "execution_count": 20,
     "metadata": {},
     "output_type": "execute_result"
    }
   ],
   "source": [
    "df.head(5)"
   ]
  },
  {
   "cell_type": "code",
   "execution_count": 10,
   "id": "1b94ea3c",
   "metadata": {},
   "outputs": [],
   "source": [
    "# SAVE as h5\n",
    "df.to_hdf(\"hdf5_file\", key='df', mode='w')"
   ]
  },
  {
   "cell_type": "code",
   "execution_count": 13,
   "id": "8b5fb3f6",
   "metadata": {},
   "outputs": [],
   "source": [
    "# %%time\n",
    "# vaex_df = vaex.open(hdf5_file)"
   ]
  },
  {
   "cell_type": "code",
   "execution_count": 18,
   "id": "753d7b4e",
   "metadata": {},
   "outputs": [
    {
     "name": "stdout",
     "output_type": "stream",
     "text": [
      "Wall time: 526 ms\n"
     ]
    }
   ],
   "source": [
    "%%time\n",
    "df = vaex.open(csv_file)"
   ]
  },
  {
   "cell_type": "code",
   "execution_count": 22,
   "id": "f7d6106a",
   "metadata": {},
   "outputs": [
    {
     "name": "stdout",
     "output_type": "stream",
     "text": [
      "Wall time: 11 ms\n"
     ]
    },
    {
     "data": {
      "text/plain": [
       "array(4.508765)"
      ]
     },
     "execution_count": 22,
     "metadata": {},
     "output_type": "execute_result"
    }
   ],
   "source": [
    "%%time\n",
    "df.qty1.mean()"
   ]
  },
  {
   "cell_type": "code",
   "execution_count": 38,
   "id": "756450af",
   "metadata": {},
   "outputs": [
    {
     "name": "stdout",
     "output_type": "stream",
     "text": [
      "Wall time: 2 ms\n"
     ]
    }
   ],
   "source": [
    "%%time\n",
    "start_time = time.time()\n",
    "above_5 = df[df[\"qty1\"] > 5]\n",
    "end_time_dfvaex_filter = time.time() - start_time\n"
   ]
  },
  {
   "cell_type": "code",
   "execution_count": 29,
   "id": "37f26855",
   "metadata": {},
   "outputs": [
    {
     "data": {
      "text/plain": [
       "80271"
      ]
     },
     "execution_count": 29,
     "metadata": {},
     "output_type": "execute_result"
    }
   ],
   "source": [
    "len(above_5)"
   ]
  },
  {
   "cell_type": "code",
   "execution_count": 30,
   "id": "32582536",
   "metadata": {},
   "outputs": [
    {
     "data": {
      "text/plain": [
       "200000"
      ]
     },
     "execution_count": 30,
     "metadata": {},
     "output_type": "execute_result"
    }
   ],
   "source": [
    "len(df)"
   ]
  },
  {
   "cell_type": "code",
   "execution_count": 33,
   "id": "6483cb36",
   "metadata": {},
   "outputs": [
    {
     "name": "stdout",
     "output_type": "stream",
     "text": [
      "Wall time: 444 ms\n"
     ]
    }
   ],
   "source": [
    "%%time\n",
    "df_pd = pd.read_csv(csv_file)\n"
   ]
  },
  {
   "cell_type": "code",
   "execution_count": 37,
   "id": "1bbdef82",
   "metadata": {},
   "outputs": [
    {
     "name": "stdout",
     "output_type": "stream",
     "text": [
      "Wall time: 18 ms\n"
     ]
    }
   ],
   "source": [
    "%%time\n",
    "start_time = time.time()\n",
    "above_5_pd = df_pd[df_pd[\"qty1\"] > 5]\n",
    "end_time_df_filter = time.time() - start_time\n"
   ]
  },
  {
   "cell_type": "code",
   "execution_count": 41,
   "id": "f7cef757",
   "metadata": {},
   "outputs": [
    {
     "name": "stdout",
     "output_type": "stream",
     "text": [
      "0.0020029544830322266 0.018002748489379883\n"
     ]
    }
   ],
   "source": [
    "print(end_time_dfvaex_filter, end_time_df_filter)"
   ]
  },
  {
   "cell_type": "code",
   "execution_count": null,
   "id": "b56db1ff",
   "metadata": {},
   "outputs": [],
   "source": []
  }
 ],
 "metadata": {
  "kernelspec": {
   "display_name": "Python 3 (ipykernel)",
   "language": "python",
   "name": "python3"
  },
  "language_info": {
   "codemirror_mode": {
    "name": "ipython",
    "version": 3
   },
   "file_extension": ".py",
   "mimetype": "text/x-python",
   "name": "python",
   "nbconvert_exporter": "python",
   "pygments_lexer": "ipython3",
   "version": "3.8.2"
  }
 },
 "nbformat": 4,
 "nbformat_minor": 5
}
